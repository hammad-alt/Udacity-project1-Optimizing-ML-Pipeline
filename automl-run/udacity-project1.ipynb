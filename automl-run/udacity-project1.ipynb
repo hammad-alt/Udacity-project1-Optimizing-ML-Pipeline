{
 "cells": [
  {
   "cell_type": "code",
   "execution_count": 1,
   "metadata": {
    "gather": {
     "logged": 1605288004745
    }
   },
   "outputs": [
    {
     "name": "stdout",
     "output_type": "stream",
     "text": [
      "SDK version: 1.19.0\n"
     ]
    }
   ],
   "source": [
    "# Check core SDK version number\n",
    "import azureml.core\n",
    "\n",
    "print(\"SDK version:\", azureml.core.VERSION)"
   ]
  },
  {
   "cell_type": "code",
   "execution_count": 13,
   "metadata": {
    "gather": {
     "logged": 1605288017002
    }
   },
   "outputs": [
    {
     "name": "stdout",
     "output_type": "stream",
     "text": [
      "Workspace name: udacity-ml\n",
      "Azure region: eastasia\n",
      "Subscription id: 77aa4fe1-b94d-42b7-8b39-c4c15eb26acb\n",
      "Resource group: res-classic-2\n"
     ]
    }
   ],
   "source": [
    "from azureml.core import Workspace, Experiment\n",
    "\n",
    "#ws = Workspace.get(name=\"udacity-project\")\n",
    "ws = Workspace.from_config()\n",
    "ws.write_config(path='.azureml')\n",
    "exp = Experiment(workspace=ws,name=\"udacity-project1\")\n",
    "\n",
    "\n",
    "print('Workspace name: ' + ws.name, \n",
    "      'Azure region: ' + ws.location, \n",
    "      'Subscription id: ' + ws.subscription_id, \n",
    "      'Resource group: ' + ws.resource_group, sep = '\\n')\n",
    "\n",
    "#run = exp.start_logging()\n"
   ]
  },
  {
   "cell_type": "code",
   "execution_count": 18,
   "metadata": {
    "gather": {
     "logged": 1605288029039
    },
    "jupyter": {
     "outputs_hidden": false,
     "source_hidden": false
    },
    "nteract": {
     "transient": {
      "deleting": false
     }
    }
   },
   "outputs": [
    {
     "name": "stdout",
     "output_type": "stream",
     "text": [
      "Found Exsisting Cluster\n",
      "\n",
      "Running\n"
     ]
    }
   ],
   "source": [
    "from azureml.core.compute import ComputeTarget, AmlCompute\n",
    "import pandas as pd\n",
    "# TODO: Create compute cluster\n",
    "# Use vm_size = \"Standard_D2_V2\" in your provisioning configuration.\n",
    "# max_nodes should be no greater than 4.\n",
    "\n",
    "output = {}\n",
    "output['Subscription ID'] = ws.subscription_id\n",
    "output['Workspace'] = ws.name\n",
    "output['Resource Group'] = ws.resource_group\n",
    "output['Location'] = ws.location\n",
    "output['Experiment Name'] = exp.name\n",
    "pd.set_option('display.max_colwidth', -1)\n",
    "outputDF = pd.DataFrame(data=output,index=[''])\n",
    "outputDF.T\n",
    "\n",
    "from azureml.core.compute_target import ComputeTargetException\n",
    "### YOUR CODE HERE ###\n",
    "cpu_cluster_name = 'hyper-ml'\n",
    "\n",
    "#verify cluster does not already exsist\n",
    "try:\n",
    "    compute_target = ComputeTarget(workspace=ws, name=cpu_cluster_name)\n",
    "    print ('Found Exsisting Cluster')\n",
    "except ComputeTargetException:\n",
    "    compute_config = AmlCompute.provisioning_configuration(vm_size='STANDARD_D2_V2',\n",
    "    max_nodes=2)\n",
    "    compute_target = ComputeTarget.create(ws, cpu_cluster_name, compute_config)\n",
    "compute_target.wait_for_completion(show_output=True)\n",
    "\n"
   ]
  },
  {
   "cell_type": "code",
   "execution_count": 5,
   "metadata": {},
   "outputs": [],
   "source": [
    "from azureml.data.dataset_factory import TabularDatasetFactory\n",
    "\n",
    "# Create TabularDataset using TabularDatasetFactory\n",
    "# Data is available at: \n",
    "# \"https://automlsamplenotebookdata.blob.core.windows.net/automl-sample-notebook-data/bankmarketing_train.csv\"\n",
    "\n",
    "data = \"https://automlsamplenotebookdata.blob.core.windows.net/automl-sample-notebook-data/bankmarketing_train.csv\"\n",
    "ds = TabularDatasetFactory.from_delimited_files(path=data)\n"
   ]
  },
  {
   "cell_type": "code",
   "execution_count": 7,
   "metadata": {},
   "outputs": [
    {
     "name": "stdout",
     "output_type": "stream",
     "text": [
      "<class 'pandas.core.frame.DataFrame'>\n",
      "<class 'pandas.core.series.Series'>\n"
     ]
    }
   ],
   "source": [
    "def clean_data(data):\n",
    "    # Dict for cleaning data\n",
    "    months = {\"jan\":1, \"feb\":2, \"mar\":3, \"apr\":4, \"may\":5, \"jun\":6, \"jul\":7, \"aug\":8, \"sep\":9, \"oct\":10, \"nov\":11, \"dec\":12}\n",
    "    weekdays = {\"mon\":1, \"tue\":2, \"wed\":3, \"thu\":4, \"fri\":5, \"sat\":6, \"sun\":7}\n",
    "\n",
    "    # Clean and one hot encode data\n",
    "    x_df = data.to_pandas_dataframe().dropna()\n",
    "    jobs = pd.get_dummies(x_df.job, prefix=\"job\")\n",
    "    x_df.drop(\"job\", inplace=True, axis=1)\n",
    "    x_df = x_df.join(jobs)\n",
    "    x_df[\"marital\"] = x_df.marital.apply(lambda s: 1 if s == \"married\" else 0)\n",
    "    x_df[\"default\"] = x_df.default.apply(lambda s: 1 if s == \"yes\" else 0)\n",
    "    x_df[\"housing\"] = x_df.housing.apply(lambda s: 1 if s == \"yes\" else 0)\n",
    "    x_df[\"loan\"] = x_df.loan.apply(lambda s: 1 if s == \"yes\" else 0)\n",
    "    contact = pd.get_dummies(x_df.contact, prefix=\"contact\")\n",
    "    x_df.drop(\"contact\", inplace=True, axis=1)\n",
    "    x_df = x_df.join(contact)\n",
    "    education = pd.get_dummies(x_df.education, prefix=\"education\")\n",
    "    x_df.drop(\"education\", inplace=True, axis=1)\n",
    "    x_df = x_df.join(education)\n",
    "    x_df[\"month\"] = x_df.month.map(months)\n",
    "    x_df[\"day_of_week\"] = x_df.day_of_week.map(weekdays)\n",
    "    x_df[\"poutcome\"] = x_df.poutcome.apply(lambda s: 1 if s == \"success\" else 0)\n",
    "\n",
    "    y_df = x_df.pop(\"y\").apply(lambda s: 1 if s == \"yes\" else 0)\n",
    "    return x_df,y_df\n",
    "\n",
    "import pandas as pd\n",
    "# Using the same clean data function to clean the imported csv file dataset.\n",
    "x, y = clean_data(ds)\n",
    "print(type(x))\n",
    "print(type(y))"
   ]
  },
  {
   "cell_type": "code",
   "execution_count": 8,
   "metadata": {},
   "outputs": [
    {
     "data": {
      "text/html": [
       "<div>\n",
       "<style scoped>\n",
       "    .dataframe tbody tr th:only-of-type {\n",
       "        vertical-align: middle;\n",
       "    }\n",
       "\n",
       "    .dataframe tbody tr th {\n",
       "        vertical-align: top;\n",
       "    }\n",
       "\n",
       "    .dataframe thead th {\n",
       "        text-align: right;\n",
       "    }\n",
       "</style>\n",
       "<table border=\"1\" class=\"dataframe\">\n",
       "  <thead>\n",
       "    <tr style=\"text-align: right;\">\n",
       "      <th></th>\n",
       "      <th>y</th>\n",
       "    </tr>\n",
       "  </thead>\n",
       "  <tbody>\n",
       "    <tr>\n",
       "      <th>0</th>\n",
       "      <td>0</td>\n",
       "    </tr>\n",
       "    <tr>\n",
       "      <th>1</th>\n",
       "      <td>0</td>\n",
       "    </tr>\n",
       "    <tr>\n",
       "      <th>2</th>\n",
       "      <td>0</td>\n",
       "    </tr>\n",
       "    <tr>\n",
       "      <th>3</th>\n",
       "      <td>0</td>\n",
       "    </tr>\n",
       "    <tr>\n",
       "      <th>4</th>\n",
       "      <td>0</td>\n",
       "    </tr>\n",
       "  </tbody>\n",
       "</table>\n",
       "</div>"
      ],
      "text/plain": [
       "   y\n",
       "0  0\n",
       "1  0\n",
       "2  0\n",
       "3  0\n",
       "4  0"
      ]
     },
     "execution_count": 8,
     "metadata": {},
     "output_type": "execute_result"
    }
   ],
   "source": [
    "y_dataframe=pd.DataFrame(y,columns=['y'])\n",
    "y_dataframe.head(5)"
   ]
  },
  {
   "cell_type": "code",
   "execution_count": 10,
   "metadata": {},
   "outputs": [],
   "source": [
    "converted_data=pd.concat([x,y_dataframe],axis=1)"
   ]
  },
  {
   "cell_type": "code",
   "execution_count": 11,
   "metadata": {},
   "outputs": [],
   "source": [
    "converted_data.to_csv('training/full_data.csv')"
   ]
  },
  {
   "cell_type": "code",
   "execution_count": 14,
   "metadata": {},
   "outputs": [
    {
     "data": {
      "text/plain": [
       "{\n",
       "  \"name\": \"workspaceblobstore\",\n",
       "  \"container_name\": \"azureml-blobstore-96aa4fb1-b1db-4cdc-9207-5775fcc82f8a\",\n",
       "  \"account_name\": \"udacityml3129747833\",\n",
       "  \"protocol\": \"https\",\n",
       "  \"endpoint\": \"core.windows.net\"\n",
       "}"
      ]
     },
     "execution_count": 14,
     "metadata": {},
     "output_type": "execute_result"
    }
   ],
   "source": [
    "datastore=ws.get_default_datastore()\n",
    "datastore"
   ]
  },
  {
   "cell_type": "code",
   "execution_count": 15,
   "metadata": {},
   "outputs": [
    {
     "name": "stdout",
     "output_type": "stream",
     "text": [
      "Uploading an estimated of 3 files\n",
      "Uploading training\\train.py\n",
      "Uploaded training\\train.py, 1 files out of an estimated total of 3\n",
      "Uploading training\\full_data.csv\n",
      "Uploaded training\\full_data.csv, 2 files out of an estimated total of 3\n",
      "Uploading training\\train_data.csv\n",
      "Uploaded training\\train_data.csv, 3 files out of an estimated total of 3\n",
      "Uploaded 3 files\n"
     ]
    },
    {
     "data": {
      "text/plain": [
       "$AZUREML_DATAREFERENCE_49ad5cabd667449597165fdd044149b0"
      ]
     },
     "execution_count": 15,
     "metadata": {},
     "output_type": "execute_result"
    }
   ],
   "source": [
    "datastore.upload(src_dir='training/',target_path='d/')\n"
   ]
  },
  {
   "cell_type": "code",
   "execution_count": 16,
   "metadata": {},
   "outputs": [],
   "source": [
    "from azureml.core import Dataset\n",
    "full_data=Dataset.Tabular.from_delimited_files(path=[(datastore,('d/full_data.csv'))])"
   ]
  },
  {
   "cell_type": "code",
   "execution_count": 19,
   "metadata": {},
   "outputs": [],
   "source": [
    "from azureml.train.automl import AutoMLConfig\n",
    "\n",
    "# Set parameters for AutoMLConfig\n",
    "# NOTE: DO NOT CHANGE THE experiment_timeout_minutes PARAMETER OR YOUR INSTANCE WILL TIME OUT.\n",
    "# If you wish to run the experiment longer, you will need to run this notebook in your own\n",
    "# Azure tenant, which will incur personal costs.\n",
    "automl_config = AutoMLConfig(\n",
    "    experiment_timeout_minutes=30,\n",
    "    task='classification',\n",
    "    primary_metric='accuracy',\n",
    "    training_data=full_data,\n",
    "    label_column_name='y',\n",
    "    n_cross_validations=5,\n",
    "    compute_target=compute_target,\n",
    "    iterations=100,\n",
    "    max_concurrent_iterations=8)"
   ]
  },
  {
   "cell_type": "code",
   "execution_count": 20,
   "metadata": {},
   "outputs": [
    {
     "name": "stdout",
     "output_type": "stream",
     "text": [
      "Running on remote.\n",
      "No run_configuration provided, running on hyper-ml with default configuration\n",
      "Running on remote compute: hyper-ml\n",
      "Parent Run ID: AutoML_dfb58a58-23f4-4fbe-8c8e-7799c72fbab2\n",
      "\n",
      "Current status: FeaturesGeneration. Generating features for the dataset.\n",
      "Current status: DatasetCrossValidationSplit. Generating individually featurized CV splits.\n",
      "Current status: ModelSelection. Beginning model selection.\n",
      "\n",
      "****************************************************************************************************\n",
      "DATA GUARDRAILS: \n",
      "\n",
      "TYPE:         Class balancing detection\n",
      "STATUS:       ALERTED\n",
      "DESCRIPTION:  To decrease model bias, please cancel the current run and fix balancing problem.\n",
      "              Learn more about imbalanced data: https://aka.ms/AutomatedMLImbalancedData\n",
      "DETAILS:      Imbalanced data can lead to a falsely perceived positive effect of a model's accuracy because the input data has bias towards one class.\n",
      "+---------------------------------+---------------------------------+--------------------------------------+\n",
      "|Size of the smallest class       |Name/Label of the smallest class |Number of samples in the training data|\n",
      "+=================================+=================================+======================================+\n",
      "|3692                             |1                                |32950                                 |\n",
      "+---------------------------------+---------------------------------+--------------------------------------+\n",
      "\n",
      "****************************************************************************************************\n",
      "\n",
      "TYPE:         Missing feature values imputation\n",
      "STATUS:       PASSED\n",
      "DESCRIPTION:  No feature missing values were detected in the training data.\n",
      "              Learn more about missing value imputation: https://aka.ms/AutomatedMLFeaturization\n",
      "\n",
      "****************************************************************************************************\n",
      "\n",
      "TYPE:         High cardinality feature detection\n",
      "STATUS:       PASSED\n",
      "DESCRIPTION:  Your inputs were analyzed, and no high cardinality features were detected.\n",
      "              Learn more about high cardinality feature handling: https://aka.ms/AutomatedMLFeaturization\n",
      "\n",
      "****************************************************************************************************\n",
      "\n",
      "****************************************************************************************************\n",
      "ITERATION: The iteration being evaluated.\n",
      "PIPELINE: A summary description of the pipeline being evaluated.\n",
      "DURATION: Time taken for the current iteration.\n",
      "METRIC: The result of computing score on the fitted pipeline.\n",
      "BEST: The best observed score thus far.\n",
      "****************************************************************************************************\n",
      "\n",
      " ITERATION   PIPELINE                                       DURATION      METRIC      BEST\n",
      "         0   MaxAbsScaler LightGBM                          0:00:54       0.9160    0.9160\n",
      "         6   StandardScalerWrapper LightGBM                 0:00:48       0.8947    0.9160\n",
      "         1   MaxAbsScaler XGBoostClassifier                 0:01:23       0.9159    0.9160\n",
      "         5   SparseNormalizer XGBoostClassifier             0:01:23       0.9094    0.9160\n",
      "         3   MinMaxScaler RandomForest                      0:00:48       0.8880    0.9160\n",
      "         4   MinMaxScaler RandomForest                      0:00:56       0.8142    0.9160\n",
      "         2   MinMaxScaler RandomForest                      0:01:02       0.8973    0.9160\n",
      "         8   SparseNormalizer LightGBM                      0:00:57       0.8898    0.9160\n",
      "         7   StandardScalerWrapper XGBoostClassifier        0:02:17       0.9138    0.9160\n",
      "         9   StandardScalerWrapper RandomForest             0:01:14       0.8009    0.9160\n",
      "        10   SparseNormalizer XGBoostClassifier             0:01:21       0.9079    0.9160\n",
      "        11   StandardScalerWrapper LogisticRegression       0:01:09       0.9103    0.9160\n",
      "        12   MaxAbsScaler LogisticRegression                0:01:01       0.8548    0.9160\n",
      "        13   SparseNormalizer XGBoostClassifier             0:01:38       0.9102    0.9160\n",
      "        14   StandardScalerWrapper LightGBM                 0:01:24       0.9083    0.9160\n",
      "        16   SparseNormalizer XGBoostClassifier             0:01:11       0.9052    0.9160\n",
      "        15   SparseNormalizer XGBoostClassifier             0:01:56       0.9089    0.9160\n",
      "        17   SparseNormalizer GradientBoosting              0:01:02       0.9009    0.9160\n",
      "        18   MaxAbsScaler GradientBoosting                  0:01:06       0.9036    0.9160\n",
      "        19   MaxAbsScaler LightGBM                          0:00:58       0.9038    0.9160\n",
      "        20   StandardScalerWrapper LightGBM                 0:01:03       0.9051    0.9160\n",
      "        21   MinMaxScaler LightGBM                          0:00:55       0.8911    0.9160\n",
      "        22   MaxAbsScaler GradientBoosting                  0:01:23       0.9033    0.9160\n",
      "        24   MaxAbsScaler LightGBM                          0:00:57       0.9091    0.9160\n",
      "        25   MaxAbsScaler LightGBM                          0:00:56       0.8880    0.9160\n",
      "        23   SparseNormalizer XGBoostClassifier             0:02:55       0.9094    0.9160\n",
      "        27   RobustScaler ExtremeRandomTrees                0:02:33       0.8890    0.9160\n",
      "        28   TruncatedSVDWrapper XGBoostClassifier          0:02:59       0.9121    0.9160\n",
      "        29   StandardScalerWrapper XGBoostClassifier        0:01:47       0.9101    0.9160\n",
      "        26   SparseNormalizer XGBoostClassifier             0:03:38       0.9090    0.9160\n",
      "        30   StandardScalerWrapper LightGBM                 0:01:02       0.8880    0.9160\n",
      "        33   SparseNormalizer XGBoostClassifier             0:01:15       0.9082    0.9160\n",
      "        32   SparseNormalizer XGBoostClassifier             0:01:45       0.9092    0.9160\n",
      "        31   SparseNormalizer XGBoostClassifier             0:01:52       0.9102    0.9160\n",
      "        35   PCA LightGBM                                   0:01:04       0.8880    0.9160\n",
      "        34   SparseNormalizer XGBoostClassifier             0:02:18       0.9102    0.9160\n",
      "        39   SparseNormalizer XGBoostClassifier             0:01:39       0.9090    0.9160\n",
      "        36   SparseNormalizer XGBoostClassifier             0:03:15       0.9097    0.9160\n",
      "        38   SparseNormalizer XGBoostClassifier             0:02:34       0.9094    0.9160\n",
      "        40   SparseNormalizer LightGBM                      0:00:56       0.8880    0.9160\n",
      "        42   MinMaxScaler LightGBM                          0:01:21       0.8986    0.9160\n",
      "        41   RobustScaler ExtremeRandomTrees                0:01:41       0.8960    0.9160\n",
      "        43   SparseNormalizer XGBoostClassifier             0:02:01       0.9093    0.9160\n",
      "        45   MinMaxScaler LightGBM                          0:01:22       0.8880    0.9160\n",
      "        44   StandardScalerWrapper XGBoostClassifier        0:01:44       0.9163    0.9163\n",
      "        46   StandardScalerWrapper XGBoostClassifier        0:00:58       0.9051    0.9163\n",
      "        47   MinMaxScaler ExtremeRandomTrees                0:01:02       0.8948    0.9163\n",
      "        50   StandardScalerWrapper LightGBM                 0:01:15       0.8880    0.9163\n",
      "        51   StandardScalerWrapper XGBoostClassifier        0:01:12       0.9154    0.9163\n",
      "        52   SparseNormalizer XGBoostClassifier             0:01:23       0.9073    0.9163\n",
      "        37   SparseNormalizer XGBoostClassifier             0:11:38       0.9047    0.9163\n",
      "        53   StandardScalerWrapper XGBoostClassifier        0:01:00       0.9101    0.9163\n",
      "        48   StandardScalerWrapper XGBoostClassifier        0:06:55       0.9110    0.9163\n",
      "        54   SparseNormalizer XGBoostClassifier             0:01:45       0.9100    0.9163\n",
      "        55   PCA XGBoostClassifier                          0:01:01       0.8880    0.9163\n",
      "        49   SparseNormalizer XGBoostClassifier             0:07:19       0.9089    0.9163\n",
      "        58   StandardScalerWrapper XGBoostClassifier        0:01:24       0.9147    0.9163\n",
      "        59   StandardScalerWrapper XGBoostClassifier        0:01:09       0.9155    0.9163\n",
      "        56   SparseNormalizer XGBoostClassifier             0:02:04       0.9102    0.9163\n"
     ]
    },
    {
     "name": "stdout",
     "output_type": "stream",
     "text": [
      "        57   SparseNormalizer XGBoostClassifier             0:02:12       0.9099    0.9163\n",
      "        60   SparseNormalizer XGBoostClassifier             0:01:18       0.8880    0.9163\n",
      "        63   SparseNormalizer XGBoostClassifier             0:00:52          nan    0.9163\n",
      "        66                                                  0:01:08          nan    0.9163\n",
      "        67                                                  0:00:50          nan    0.9163\n",
      "        61   SparseNormalizer XGBoostClassifier             0:01:20          nan    0.9163\n",
      "        62   SparseNormalizer XGBoostClassifier             0:01:12       0.9097    0.9163\n",
      "        64                                                  0:00:15          nan    0.9163\n",
      "        65                                                  0:01:21          nan    0.9163\n",
      "        68                                                  0:00:18          nan    0.9163\n",
      "        69    VotingEnsemble                                0:02:10       0.9172    0.9172\n",
      "        70    StackEnsemble                                 0:03:28       0.9168    0.9172\n"
     ]
    }
   ],
   "source": [
    "automl_run=exp.submit(automl_config, show_output=True)"
   ]
  },
  {
   "cell_type": "code",
   "execution_count": 21,
   "metadata": {
    "gather": {
     "logged": 1598275665403
    },
    "jupyter": {
     "outputs_hidden": false,
     "source_hidden": false
    },
    "nteract": {
     "transient": {
      "deleting": false
     }
    }
   },
   "outputs": [
    {
     "name": "stdout",
     "output_type": "stream",
     "text": [
      "\n",
      "\n",
      "****************************************************************************************************\n",
      "DATA GUARDRAILS: \n",
      "\n",
      "TYPE:         Class balancing detection\n",
      "STATUS:       ALERTED\n",
      "DESCRIPTION:  To decrease model bias, please cancel the current run and fix balancing problem.\n",
      "              Learn more about imbalanced data: https://aka.ms/AutomatedMLImbalancedData\n",
      "DETAILS:      Imbalanced data can lead to a falsely perceived positive effect of a model's accuracy because the input data has bias towards one class.\n",
      "+---------------------------------+---------------------------------+--------------------------------------+\n",
      "|Size of the smallest class       |Name/Label of the smallest class |Number of samples in the training data|\n",
      "+=================================+=================================+======================================+\n",
      "|3692                             |1                                |32950                                 |\n",
      "+---------------------------------+---------------------------------+--------------------------------------+\n",
      "\n",
      "****************************************************************************************************\n",
      "\n",
      "TYPE:         Missing feature values imputation\n",
      "STATUS:       PASSED\n",
      "DESCRIPTION:  No feature missing values were detected in the training data.\n",
      "              Learn more about missing value imputation: https://aka.ms/AutomatedMLFeaturization\n",
      "\n",
      "****************************************************************************************************\n",
      "\n",
      "TYPE:         High cardinality feature detection\n",
      "STATUS:       PASSED\n",
      "DESCRIPTION:  Your inputs were analyzed, and no high cardinality features were detected.\n",
      "              Learn more about high cardinality feature handling: https://aka.ms/AutomatedMLFeaturization\n",
      "\n",
      "****************************************************************************************************\n",
      "\n",
      "****************************************************************************************************\n",
      "ITERATION: The iteration being evaluated.\n",
      "PIPELINE: A summary description of the pipeline being evaluated.\n",
      "DURATION: Time taken for the current iteration.\n",
      "METRIC: The result of computing score on the fitted pipeline.\n",
      "BEST: The best observed score thus far.\n",
      "****************************************************************************************************\n",
      "\n",
      " ITERATION   PIPELINE                                       DURATION      METRIC      BEST\n",
      "         0   MaxAbsScaler LightGBM                          0:00:54       0.9160    0.9160\n",
      "         1   MaxAbsScaler XGBoostClassifier                 0:01:23       0.9159    0.9160\n",
      "         2   MinMaxScaler RandomForest                      0:01:02       0.8973    0.9160\n",
      "         3   MinMaxScaler RandomForest                      0:00:48       0.8880    0.9160\n",
      "         4   MinMaxScaler RandomForest                      0:00:56       0.8142    0.9160\n",
      "         5   SparseNormalizer XGBoostClassifier             0:01:23       0.9094    0.9160\n",
      "         6   StandardScalerWrapper LightGBM                 0:00:48       0.8947    0.9160\n",
      "         7   StandardScalerWrapper XGBoostClassifier        0:02:17       0.9138    0.9160\n",
      "        10   SparseNormalizer XGBoostClassifier             0:01:21       0.9079    0.9160\n",
      "        11   StandardScalerWrapper LogisticRegression       0:01:09       0.9103    0.9160\n",
      "        12   MaxAbsScaler LogisticRegression                0:01:01       0.8548    0.9160\n",
      "        13   SparseNormalizer XGBoostClassifier             0:01:38       0.9102    0.9160\n",
      "        14   StandardScalerWrapper LightGBM                 0:01:24       0.9083    0.9160\n",
      "        15   SparseNormalizer XGBoostClassifier             0:01:56       0.9089    0.9160\n",
      "         8   SparseNormalizer LightGBM                      0:00:57       0.8898    0.9160\n",
      "         9   StandardScalerWrapper RandomForest             0:01:14       0.8009    0.9160\n",
      "        16   SparseNormalizer XGBoostClassifier             0:01:11       0.9052    0.9160\n",
      "        17   SparseNormalizer GradientBoosting              0:01:02       0.9009    0.9160\n",
      "        18   MaxAbsScaler GradientBoosting                  0:01:06       0.9036    0.9160\n",
      "        19   MaxAbsScaler LightGBM                          0:00:58       0.9038    0.9160\n",
      "        20   StandardScalerWrapper LightGBM                 0:01:03       0.9051    0.9160\n",
      "        21   MinMaxScaler LightGBM                          0:00:55       0.8911    0.9160\n",
      "        22   MaxAbsScaler GradientBoosting                  0:01:23       0.9033    0.9160\n",
      "        23   SparseNormalizer XGBoostClassifier             0:02:55       0.9094    0.9160\n",
      "        24   MaxAbsScaler LightGBM                          0:00:57       0.9091    0.9160\n",
      "        25   MaxAbsScaler LightGBM                          0:00:56       0.8880    0.9160\n",
      "        26   SparseNormalizer XGBoostClassifier             0:03:38       0.9090    0.9160\n",
      "        27   RobustScaler ExtremeRandomTrees                0:02:33       0.8890    0.9160\n",
      "        28   TruncatedSVDWrapper XGBoostClassifier          0:02:59       0.9121    0.9160\n",
      "        29   StandardScalerWrapper XGBoostClassifier        0:01:47       0.9101    0.9160\n",
      "        30   StandardScalerWrapper LightGBM                 0:01:02       0.8880    0.9160\n",
      "        31   SparseNormalizer XGBoostClassifier             0:01:52       0.9102    0.9160\n",
      "        32   SparseNormalizer XGBoostClassifier             0:01:45       0.9092    0.9160\n",
      "        33   SparseNormalizer XGBoostClassifier             0:01:15       0.9082    0.9160\n",
      "        34   SparseNormalizer XGBoostClassifier             0:02:18       0.9102    0.9160\n",
      "        35   PCA LightGBM                                   0:01:04       0.8880    0.9160\n",
      "        36   SparseNormalizer XGBoostClassifier             0:03:15       0.9097    0.9160\n",
      "        37   SparseNormalizer XGBoostClassifier             0:11:38       0.9047    0.9160\n",
      "        38   SparseNormalizer XGBoostClassifier             0:02:34       0.9094    0.9160\n",
      "        39   SparseNormalizer XGBoostClassifier             0:01:39       0.9090    0.9160\n",
      "        40   SparseNormalizer LightGBM                      0:00:56       0.8880    0.9160\n",
      "        41   RobustScaler ExtremeRandomTrees                0:01:41       0.8960    0.9160\n",
      "        42   MinMaxScaler LightGBM                          0:01:21       0.8986    0.9160\n",
      "        43   SparseNormalizer XGBoostClassifier             0:02:01       0.9093    0.9160\n",
      "        44   StandardScalerWrapper XGBoostClassifier        0:01:44       0.9163    0.9163\n",
      "        45   MinMaxScaler LightGBM                          0:01:22       0.8880    0.9163\n",
      "        46   StandardScalerWrapper XGBoostClassifier        0:00:58       0.9051    0.9163\n",
      "        47   MinMaxScaler ExtremeRandomTrees                0:01:02       0.8948    0.9163\n",
      "        48   StandardScalerWrapper XGBoostClassifier        0:06:55       0.9110    0.9163\n",
      "        49   SparseNormalizer XGBoostClassifier             0:07:19       0.9089    0.9163\n",
      "        50   StandardScalerWrapper LightGBM                 0:01:15       0.8880    0.9163\n",
      "        51   StandardScalerWrapper XGBoostClassifier        0:01:12       0.9154    0.9163\n",
      "        52   SparseNormalizer XGBoostClassifier             0:01:23       0.9073    0.9163\n",
      "        53   StandardScalerWrapper XGBoostClassifier        0:01:00       0.9101    0.9163\n",
      "        54   SparseNormalizer XGBoostClassifier             0:01:45       0.9100    0.9163\n",
      "        55   PCA XGBoostClassifier                          0:01:01       0.8880    0.9163\n",
      "        56   SparseNormalizer XGBoostClassifier             0:02:04       0.9102    0.9163\n",
      "        57   SparseNormalizer XGBoostClassifier             0:02:12       0.9099    0.9163\n",
      "        58   StandardScalerWrapper XGBoostClassifier        0:01:24       0.9147    0.9163\n",
      "        59   StandardScalerWrapper XGBoostClassifier        0:01:09       0.9155    0.9163\n",
      "        60   SparseNormalizer XGBoostClassifier             0:01:18       0.8880    0.9163\n",
      "        61   SparseNormalizer XGBoostClassifier             0:01:20          nan    0.9163\n",
      "        62   SparseNormalizer XGBoostClassifier             0:01:12       0.9097    0.9163\n",
      "        63   SparseNormalizer XGBoostClassifier             0:00:52          nan    0.9163\n",
      "        64                                                  0:00:15          nan    0.9163\n",
      "        65                                                  0:01:21          nan    0.9163\n",
      "        66                                                  0:01:08          nan    0.9163\n",
      "        67                                                  0:00:50          nan    0.9163\n",
      "        68                                                  0:00:18          nan    0.9163\n",
      "        69    VotingEnsemble                                0:02:10       0.9172    0.9172\n",
      "        70    StackEnsemble                                 0:03:28       0.9168    0.9172\n"
     ]
    },
    {
     "data": {
      "text/plain": [
       "{'runId': 'AutoML_dfb58a58-23f4-4fbe-8c8e-7799c72fbab2',\n",
       " 'target': 'hyper-ml',\n",
       " 'status': 'Completed',\n",
       " 'startTimeUtc': '2020-12-28T10:02:25.497281Z',\n",
       " 'endTimeUtc': '2020-12-28T10:41:23.926422Z',\n",
       " 'properties': {'num_iterations': '100',\n",
       "  'training_type': 'TrainFull',\n",
       "  'acquisition_function': 'EI',\n",
       "  'primary_metric': 'accuracy',\n",
       "  'train_split': '0',\n",
       "  'acquisition_parameter': '0',\n",
       "  'num_cross_validation': '5',\n",
       "  'target': 'hyper-ml',\n",
       "  'AMLSettingsJsonString': '{\"path\":null,\"name\":\"udacity-project1\",\"subscription_id\":\"77aa4fe1-b94d-42b7-8b39-c4c15eb26acb\",\"resource_group\":\"res-classic-2\",\"workspace_name\":\"udacity-ml\",\"region\":\"eastasia\",\"compute_target\":\"hyper-ml\",\"spark_service\":null,\"azure_service\":\"remote\",\"many_models\":false,\"pipeline_fetch_max_batch_size\":1,\"iterations\":100,\"primary_metric\":\"accuracy\",\"task_type\":\"classification\",\"data_script\":null,\"validation_size\":0.0,\"n_cross_validations\":5,\"y_min\":null,\"y_max\":null,\"num_classes\":null,\"featurization\":\"auto\",\"_ignore_package_version_incompatibilities\":false,\"is_timeseries\":false,\"max_cores_per_iteration\":1,\"max_concurrent_iterations\":8,\"iteration_timeout_minutes\":null,\"mem_in_mb\":null,\"enforce_time_on_windows\":true,\"experiment_timeout_minutes\":30,\"experiment_exit_score\":null,\"whitelist_models\":null,\"blacklist_algos\":[\"TensorFlowLinearClassifier\",\"TensorFlowDNN\"],\"supported_models\":[\"KNN\",\"LightGBM\",\"LinearSVM\",\"SGD\",\"TensorFlowLinearClassifier\",\"XGBoostClassifier\",\"AveragedPerceptronClassifier\",\"MultinomialNaiveBayes\",\"LogisticRegression\",\"BernoulliNaiveBayes\",\"DecisionTree\",\"RandomForest\",\"SVM\",\"TensorFlowDNN\",\"GradientBoosting\",\"ExtremeRandomTrees\"],\"auto_blacklist\":true,\"blacklist_samples_reached\":false,\"exclude_nan_labels\":true,\"verbosity\":20,\"_debug_log\":\"azureml_automl.log\",\"show_warnings\":false,\"model_explainability\":true,\"service_url\":null,\"sdk_url\":null,\"sdk_packages\":null,\"enable_onnx_compatible_models\":false,\"enable_split_onnx_featurizer_estimator_models\":false,\"vm_type\":\"STANDARD_DS2_V2\",\"telemetry_verbosity\":20,\"send_telemetry\":true,\"enable_dnn\":false,\"scenario\":\"SDK-1.13.0\",\"environment_label\":null,\"force_text_dnn\":false,\"enable_feature_sweeping\":true,\"enable_early_stopping\":false,\"early_stopping_n_iters\":10,\"metrics\":null,\"enable_ensembling\":true,\"enable_stack_ensembling\":true,\"ensemble_iterations\":15,\"enable_tf\":false,\"enable_subsampling\":false,\"subsample_seed\":null,\"enable_nimbusml\":false,\"enable_streaming\":false,\"force_streaming\":false,\"track_child_runs\":true,\"allowed_private_models\":[],\"label_column_name\":\"y\",\"weight_column_name\":null,\"cv_split_column_names\":null,\"enable_local_managed\":false,\"_local_managed_run_id\":null,\"cost_mode\":1,\"lag_length\":0,\"metric_operation\":\"maximize\",\"preprocess\":true}',\n",
       "  'DataPrepJsonString': '{\\\\\"training_data\\\\\": \\\\\"{\\\\\\\\\\\\\"blocks\\\\\\\\\\\\\": [{\\\\\\\\\\\\\"id\\\\\\\\\\\\\": \\\\\\\\\\\\\"837abb5b-be14-404b-bf6b-4a9213a84a73\\\\\\\\\\\\\", \\\\\\\\\\\\\"type\\\\\\\\\\\\\": \\\\\\\\\\\\\"Microsoft.DPrep.GetDatastoreFilesBlock\\\\\\\\\\\\\", \\\\\\\\\\\\\"arguments\\\\\\\\\\\\\": {\\\\\\\\\\\\\"datastores\\\\\\\\\\\\\": [{\\\\\\\\\\\\\"datastoreName\\\\\\\\\\\\\": \\\\\\\\\\\\\"workspaceblobstore\\\\\\\\\\\\\", \\\\\\\\\\\\\"path\\\\\\\\\\\\\": \\\\\\\\\\\\\"d/full_data.csv\\\\\\\\\\\\\", \\\\\\\\\\\\\"resourceGroup\\\\\\\\\\\\\": \\\\\\\\\\\\\"res-classic-2\\\\\\\\\\\\\", \\\\\\\\\\\\\"subscription\\\\\\\\\\\\\": \\\\\\\\\\\\\"77aa4fe1-b94d-42b7-8b39-c4c15eb26acb\\\\\\\\\\\\\", \\\\\\\\\\\\\"workspaceName\\\\\\\\\\\\\": \\\\\\\\\\\\\"udacity-ml\\\\\\\\\\\\\"}]}, \\\\\\\\\\\\\"localData\\\\\\\\\\\\\": {}, \\\\\\\\\\\\\"isEnabled\\\\\\\\\\\\\": true, \\\\\\\\\\\\\"name\\\\\\\\\\\\\": null, \\\\\\\\\\\\\"annotation\\\\\\\\\\\\\": null}, {\\\\\\\\\\\\\"id\\\\\\\\\\\\\": \\\\\\\\\\\\\"f0ba87d7-fef3-48e9-83fb-785ccc08b935\\\\\\\\\\\\\", \\\\\\\\\\\\\"type\\\\\\\\\\\\\": \\\\\\\\\\\\\"Microsoft.DPrep.ParseDelimitedBlock\\\\\\\\\\\\\", \\\\\\\\\\\\\"arguments\\\\\\\\\\\\\": {\\\\\\\\\\\\\"columnHeadersMode\\\\\\\\\\\\\": 3, \\\\\\\\\\\\\"fileEncoding\\\\\\\\\\\\\": 0, \\\\\\\\\\\\\"handleQuotedLineBreaks\\\\\\\\\\\\\": false, \\\\\\\\\\\\\"preview\\\\\\\\\\\\\": false, \\\\\\\\\\\\\"separator\\\\\\\\\\\\\": \\\\\\\\\\\\\",\\\\\\\\\\\\\", \\\\\\\\\\\\\"skipRows\\\\\\\\\\\\\": 0, \\\\\\\\\\\\\"skipRowsMode\\\\\\\\\\\\\": 0}, \\\\\\\\\\\\\"localData\\\\\\\\\\\\\": {}, \\\\\\\\\\\\\"isEnabled\\\\\\\\\\\\\": true, \\\\\\\\\\\\\"name\\\\\\\\\\\\\": null, \\\\\\\\\\\\\"annotation\\\\\\\\\\\\\": null}, {\\\\\\\\\\\\\"id\\\\\\\\\\\\\": \\\\\\\\\\\\\"f8d40799-6d45-49e7-b73e-7ee5e280e606\\\\\\\\\\\\\", \\\\\\\\\\\\\"type\\\\\\\\\\\\\": \\\\\\\\\\\\\"Microsoft.DPrep.DropColumnsBlock\\\\\\\\\\\\\", \\\\\\\\\\\\\"arguments\\\\\\\\\\\\\": {\\\\\\\\\\\\\"columns\\\\\\\\\\\\\": {\\\\\\\\\\\\\"type\\\\\\\\\\\\\": 0, \\\\\\\\\\\\\"details\\\\\\\\\\\\\": {\\\\\\\\\\\\\"selectedColumns\\\\\\\\\\\\\": [\\\\\\\\\\\\\"Path\\\\\\\\\\\\\"]}}}, \\\\\\\\\\\\\"localData\\\\\\\\\\\\\": {}, \\\\\\\\\\\\\"isEnabled\\\\\\\\\\\\\": true, \\\\\\\\\\\\\"name\\\\\\\\\\\\\": null, \\\\\\\\\\\\\"annotation\\\\\\\\\\\\\": null}, {\\\\\\\\\\\\\"id\\\\\\\\\\\\\": \\\\\\\\\\\\\"f100f29f-5d63-467a-840f-c44d2c28110d\\\\\\\\\\\\\", \\\\\\\\\\\\\"type\\\\\\\\\\\\\": \\\\\\\\\\\\\"Microsoft.DPrep.SetColumnTypesBlock\\\\\\\\\\\\\", \\\\\\\\\\\\\"arguments\\\\\\\\\\\\\": {\\\\\\\\\\\\\"columnConversion\\\\\\\\\\\\\": [{\\\\\\\\\\\\\"column\\\\\\\\\\\\\": {\\\\\\\\\\\\\"type\\\\\\\\\\\\\": 2, \\\\\\\\\\\\\"details\\\\\\\\\\\\\": {\\\\\\\\\\\\\"selectedColumn\\\\\\\\\\\\\": \\\\\\\\\\\\\"Column1\\\\\\\\\\\\\"}}, \\\\\\\\\\\\\"typeProperty\\\\\\\\\\\\\": 2}, {\\\\\\\\\\\\\"column\\\\\\\\\\\\\": {\\\\\\\\\\\\\"type\\\\\\\\\\\\\": 2, \\\\\\\\\\\\\"details\\\\\\\\\\\\\": {\\\\\\\\\\\\\"selectedColumn\\\\\\\\\\\\\": \\\\\\\\\\\\\"age\\\\\\\\\\\\\"}}, \\\\\\\\\\\\\"typeProperty\\\\\\\\\\\\\": 2}, {\\\\\\\\\\\\\"column\\\\\\\\\\\\\": {\\\\\\\\\\\\\"type\\\\\\\\\\\\\": 2, \\\\\\\\\\\\\"details\\\\\\\\\\\\\": {\\\\\\\\\\\\\"selectedColumn\\\\\\\\\\\\\": \\\\\\\\\\\\\"marital\\\\\\\\\\\\\"}}, \\\\\\\\\\\\\"typeProperty\\\\\\\\\\\\\": 2}, {\\\\\\\\\\\\\"column\\\\\\\\\\\\\": {\\\\\\\\\\\\\"type\\\\\\\\\\\\\": 2, \\\\\\\\\\\\\"details\\\\\\\\\\\\\": {\\\\\\\\\\\\\"selectedColumn\\\\\\\\\\\\\": \\\\\\\\\\\\\"default\\\\\\\\\\\\\"}}, \\\\\\\\\\\\\"typeProperty\\\\\\\\\\\\\": 2}, {\\\\\\\\\\\\\"column\\\\\\\\\\\\\": {\\\\\\\\\\\\\"type\\\\\\\\\\\\\": 2, \\\\\\\\\\\\\"details\\\\\\\\\\\\\": {\\\\\\\\\\\\\"selectedColumn\\\\\\\\\\\\\": \\\\\\\\\\\\\"housing\\\\\\\\\\\\\"}}, \\\\\\\\\\\\\"typeProperty\\\\\\\\\\\\\": 2}, {\\\\\\\\\\\\\"column\\\\\\\\\\\\\": {\\\\\\\\\\\\\"type\\\\\\\\\\\\\": 2, \\\\\\\\\\\\\"details\\\\\\\\\\\\\": {\\\\\\\\\\\\\"selectedColumn\\\\\\\\\\\\\": \\\\\\\\\\\\\"loan\\\\\\\\\\\\\"}}, \\\\\\\\\\\\\"typeProperty\\\\\\\\\\\\\": 2}, {\\\\\\\\\\\\\"column\\\\\\\\\\\\\": {\\\\\\\\\\\\\"type\\\\\\\\\\\\\": 2, \\\\\\\\\\\\\"details\\\\\\\\\\\\\": {\\\\\\\\\\\\\"selectedColumn\\\\\\\\\\\\\": \\\\\\\\\\\\\"month\\\\\\\\\\\\\"}}, \\\\\\\\\\\\\"typeProperty\\\\\\\\\\\\\": 2}, {\\\\\\\\\\\\\"column\\\\\\\\\\\\\": {\\\\\\\\\\\\\"type\\\\\\\\\\\\\": 2, \\\\\\\\\\\\\"details\\\\\\\\\\\\\": {\\\\\\\\\\\\\"selectedColumn\\\\\\\\\\\\\": \\\\\\\\\\\\\"day_of_week\\\\\\\\\\\\\"}}, \\\\\\\\\\\\\"typeProperty\\\\\\\\\\\\\": 2}, {\\\\\\\\\\\\\"column\\\\\\\\\\\\\": {\\\\\\\\\\\\\"type\\\\\\\\\\\\\": 2, \\\\\\\\\\\\\"details\\\\\\\\\\\\\": {\\\\\\\\\\\\\"selectedColumn\\\\\\\\\\\\\": \\\\\\\\\\\\\"duration\\\\\\\\\\\\\"}}, \\\\\\\\\\\\\"typeProperty\\\\\\\\\\\\\": 2}, {\\\\\\\\\\\\\"column\\\\\\\\\\\\\": {\\\\\\\\\\\\\"type\\\\\\\\\\\\\": 2, \\\\\\\\\\\\\"details\\\\\\\\\\\\\": {\\\\\\\\\\\\\"selectedColumn\\\\\\\\\\\\\": \\\\\\\\\\\\\"campaign\\\\\\\\\\\\\"}}, \\\\\\\\\\\\\"typeProperty\\\\\\\\\\\\\": 2}, {\\\\\\\\\\\\\"column\\\\\\\\\\\\\": {\\\\\\\\\\\\\"type\\\\\\\\\\\\\": 2, \\\\\\\\\\\\\"details\\\\\\\\\\\\\": {\\\\\\\\\\\\\"selectedColumn\\\\\\\\\\\\\": \\\\\\\\\\\\\"pdays\\\\\\\\\\\\\"}}, \\\\\\\\\\\\\"typeProperty\\\\\\\\\\\\\": 2}, {\\\\\\\\\\\\\"column\\\\\\\\\\\\\": {\\\\\\\\\\\\\"type\\\\\\\\\\\\\": 2, \\\\\\\\\\\\\"details\\\\\\\\\\\\\": {\\\\\\\\\\\\\"selectedColumn\\\\\\\\\\\\\": \\\\\\\\\\\\\"previous\\\\\\\\\\\\\"}}, \\\\\\\\\\\\\"typeProperty\\\\\\\\\\\\\": 2}, {\\\\\\\\\\\\\"column\\\\\\\\\\\\\": {\\\\\\\\\\\\\"type\\\\\\\\\\\\\": 2, \\\\\\\\\\\\\"details\\\\\\\\\\\\\": {\\\\\\\\\\\\\"selectedColumn\\\\\\\\\\\\\": \\\\\\\\\\\\\"poutcome\\\\\\\\\\\\\"}}, \\\\\\\\\\\\\"typeProperty\\\\\\\\\\\\\": 2}, {\\\\\\\\\\\\\"column\\\\\\\\\\\\\": {\\\\\\\\\\\\\"type\\\\\\\\\\\\\": 2, \\\\\\\\\\\\\"details\\\\\\\\\\\\\": {\\\\\\\\\\\\\"selectedColumn\\\\\\\\\\\\\": \\\\\\\\\\\\\"emp.var.rate\\\\\\\\\\\\\"}}, \\\\\\\\\\\\\"typeProperty\\\\\\\\\\\\\": 3}, {\\\\\\\\\\\\\"column\\\\\\\\\\\\\": {\\\\\\\\\\\\\"type\\\\\\\\\\\\\": 2, \\\\\\\\\\\\\"details\\\\\\\\\\\\\": {\\\\\\\\\\\\\"selectedColumn\\\\\\\\\\\\\": \\\\\\\\\\\\\"cons.price.idx\\\\\\\\\\\\\"}}, \\\\\\\\\\\\\"typeProperty\\\\\\\\\\\\\": 3}, {\\\\\\\\\\\\\"column\\\\\\\\\\\\\": {\\\\\\\\\\\\\"type\\\\\\\\\\\\\": 2, \\\\\\\\\\\\\"details\\\\\\\\\\\\\": {\\\\\\\\\\\\\"selectedColumn\\\\\\\\\\\\\": \\\\\\\\\\\\\"cons.conf.idx\\\\\\\\\\\\\"}}, \\\\\\\\\\\\\"typeProperty\\\\\\\\\\\\\": 3}, {\\\\\\\\\\\\\"column\\\\\\\\\\\\\": {\\\\\\\\\\\\\"type\\\\\\\\\\\\\": 2, \\\\\\\\\\\\\"details\\\\\\\\\\\\\": {\\\\\\\\\\\\\"selectedColumn\\\\\\\\\\\\\": \\\\\\\\\\\\\"euribor3m\\\\\\\\\\\\\"}}, \\\\\\\\\\\\\"typeProperty\\\\\\\\\\\\\": 3}, {\\\\\\\\\\\\\"column\\\\\\\\\\\\\": {\\\\\\\\\\\\\"type\\\\\\\\\\\\\": 2, \\\\\\\\\\\\\"details\\\\\\\\\\\\\": {\\\\\\\\\\\\\"selectedColumn\\\\\\\\\\\\\": \\\\\\\\\\\\\"nr.employed\\\\\\\\\\\\\"}}, \\\\\\\\\\\\\"typeProperty\\\\\\\\\\\\\": 3}, {\\\\\\\\\\\\\"column\\\\\\\\\\\\\": {\\\\\\\\\\\\\"type\\\\\\\\\\\\\": 2, \\\\\\\\\\\\\"details\\\\\\\\\\\\\": {\\\\\\\\\\\\\"selectedColumn\\\\\\\\\\\\\": \\\\\\\\\\\\\"job_admin.\\\\\\\\\\\\\"}}, \\\\\\\\\\\\\"typeProperty\\\\\\\\\\\\\": 2}, {\\\\\\\\\\\\\"column\\\\\\\\\\\\\": {\\\\\\\\\\\\\"type\\\\\\\\\\\\\": 2, \\\\\\\\\\\\\"details\\\\\\\\\\\\\": {\\\\\\\\\\\\\"selectedColumn\\\\\\\\\\\\\": \\\\\\\\\\\\\"job_blue-collar\\\\\\\\\\\\\"}}, \\\\\\\\\\\\\"typeProperty\\\\\\\\\\\\\": 2}, {\\\\\\\\\\\\\"column\\\\\\\\\\\\\": {\\\\\\\\\\\\\"type\\\\\\\\\\\\\": 2, \\\\\\\\\\\\\"details\\\\\\\\\\\\\": {\\\\\\\\\\\\\"selectedColumn\\\\\\\\\\\\\": \\\\\\\\\\\\\"job_entrepreneur\\\\\\\\\\\\\"}}, \\\\\\\\\\\\\"typeProperty\\\\\\\\\\\\\": 2}, {\\\\\\\\\\\\\"column\\\\\\\\\\\\\": {\\\\\\\\\\\\\"type\\\\\\\\\\\\\": 2, \\\\\\\\\\\\\"details\\\\\\\\\\\\\": {\\\\\\\\\\\\\"selectedColumn\\\\\\\\\\\\\": \\\\\\\\\\\\\"job_housemaid\\\\\\\\\\\\\"}}, \\\\\\\\\\\\\"typeProperty\\\\\\\\\\\\\": 2}, {\\\\\\\\\\\\\"column\\\\\\\\\\\\\": {\\\\\\\\\\\\\"type\\\\\\\\\\\\\": 2, \\\\\\\\\\\\\"details\\\\\\\\\\\\\": {\\\\\\\\\\\\\"selectedColumn\\\\\\\\\\\\\": \\\\\\\\\\\\\"job_management\\\\\\\\\\\\\"}}, \\\\\\\\\\\\\"typeProperty\\\\\\\\\\\\\": 2}, {\\\\\\\\\\\\\"column\\\\\\\\\\\\\": {\\\\\\\\\\\\\"type\\\\\\\\\\\\\": 2, \\\\\\\\\\\\\"details\\\\\\\\\\\\\": {\\\\\\\\\\\\\"selectedColumn\\\\\\\\\\\\\": \\\\\\\\\\\\\"job_retired\\\\\\\\\\\\\"}}, \\\\\\\\\\\\\"typeProperty\\\\\\\\\\\\\": 2}, {\\\\\\\\\\\\\"column\\\\\\\\\\\\\": {\\\\\\\\\\\\\"type\\\\\\\\\\\\\": 2, \\\\\\\\\\\\\"details\\\\\\\\\\\\\": {\\\\\\\\\\\\\"selectedColumn\\\\\\\\\\\\\": \\\\\\\\\\\\\"job_self-employed\\\\\\\\\\\\\"}}, \\\\\\\\\\\\\"typeProperty\\\\\\\\\\\\\": 2}, {\\\\\\\\\\\\\"column\\\\\\\\\\\\\": {\\\\\\\\\\\\\"type\\\\\\\\\\\\\": 2, \\\\\\\\\\\\\"details\\\\\\\\\\\\\": {\\\\\\\\\\\\\"selectedColumn\\\\\\\\\\\\\": \\\\\\\\\\\\\"job_services\\\\\\\\\\\\\"}}, \\\\\\\\\\\\\"typeProperty\\\\\\\\\\\\\": 2}, {\\\\\\\\\\\\\"column\\\\\\\\\\\\\": {\\\\\\\\\\\\\"type\\\\\\\\\\\\\": 2, \\\\\\\\\\\\\"details\\\\\\\\\\\\\": {\\\\\\\\\\\\\"selectedColumn\\\\\\\\\\\\\": \\\\\\\\\\\\\"job_student\\\\\\\\\\\\\"}}, \\\\\\\\\\\\\"typeProperty\\\\\\\\\\\\\": 2}, {\\\\\\\\\\\\\"column\\\\\\\\\\\\\": {\\\\\\\\\\\\\"type\\\\\\\\\\\\\": 2, \\\\\\\\\\\\\"details\\\\\\\\\\\\\": {\\\\\\\\\\\\\"selectedColumn\\\\\\\\\\\\\": \\\\\\\\\\\\\"job_technician\\\\\\\\\\\\\"}}, \\\\\\\\\\\\\"typeProperty\\\\\\\\\\\\\": 2}, {\\\\\\\\\\\\\"column\\\\\\\\\\\\\": {\\\\\\\\\\\\\"type\\\\\\\\\\\\\": 2, \\\\\\\\\\\\\"details\\\\\\\\\\\\\": {\\\\\\\\\\\\\"selectedColumn\\\\\\\\\\\\\": \\\\\\\\\\\\\"job_unemployed\\\\\\\\\\\\\"}}, \\\\\\\\\\\\\"typeProperty\\\\\\\\\\\\\": 2}, {\\\\\\\\\\\\\"column\\\\\\\\\\\\\": {\\\\\\\\\\\\\"type\\\\\\\\\\\\\": 2, \\\\\\\\\\\\\"details\\\\\\\\\\\\\": {\\\\\\\\\\\\\"selectedColumn\\\\\\\\\\\\\": \\\\\\\\\\\\\"job_unknown\\\\\\\\\\\\\"}}, \\\\\\\\\\\\\"typeProperty\\\\\\\\\\\\\": 2}, {\\\\\\\\\\\\\"column\\\\\\\\\\\\\": {\\\\\\\\\\\\\"type\\\\\\\\\\\\\": 2, \\\\\\\\\\\\\"details\\\\\\\\\\\\\": {\\\\\\\\\\\\\"selectedColumn\\\\\\\\\\\\\": \\\\\\\\\\\\\"contact_cellular\\\\\\\\\\\\\"}}, \\\\\\\\\\\\\"typeProperty\\\\\\\\\\\\\": 2}, {\\\\\\\\\\\\\"column\\\\\\\\\\\\\": {\\\\\\\\\\\\\"type\\\\\\\\\\\\\": 2, \\\\\\\\\\\\\"details\\\\\\\\\\\\\": {\\\\\\\\\\\\\"selectedColumn\\\\\\\\\\\\\": \\\\\\\\\\\\\"contact_telephone\\\\\\\\\\\\\"}}, \\\\\\\\\\\\\"typeProperty\\\\\\\\\\\\\": 2}, {\\\\\\\\\\\\\"column\\\\\\\\\\\\\": {\\\\\\\\\\\\\"type\\\\\\\\\\\\\": 2, \\\\\\\\\\\\\"details\\\\\\\\\\\\\": {\\\\\\\\\\\\\"selectedColumn\\\\\\\\\\\\\": \\\\\\\\\\\\\"education_basic.4y\\\\\\\\\\\\\"}}, \\\\\\\\\\\\\"typeProperty\\\\\\\\\\\\\": 2}, {\\\\\\\\\\\\\"column\\\\\\\\\\\\\": {\\\\\\\\\\\\\"type\\\\\\\\\\\\\": 2, \\\\\\\\\\\\\"details\\\\\\\\\\\\\": {\\\\\\\\\\\\\"selectedColumn\\\\\\\\\\\\\": \\\\\\\\\\\\\"education_basic.6y\\\\\\\\\\\\\"}}, \\\\\\\\\\\\\"typeProperty\\\\\\\\\\\\\": 2}, {\\\\\\\\\\\\\"column\\\\\\\\\\\\\": {\\\\\\\\\\\\\"type\\\\\\\\\\\\\": 2, \\\\\\\\\\\\\"details\\\\\\\\\\\\\": {\\\\\\\\\\\\\"selectedColumn\\\\\\\\\\\\\": \\\\\\\\\\\\\"education_basic.9y\\\\\\\\\\\\\"}}, \\\\\\\\\\\\\"typeProperty\\\\\\\\\\\\\": 2}, {\\\\\\\\\\\\\"column\\\\\\\\\\\\\": {\\\\\\\\\\\\\"type\\\\\\\\\\\\\": 2, \\\\\\\\\\\\\"details\\\\\\\\\\\\\": {\\\\\\\\\\\\\"selectedColumn\\\\\\\\\\\\\": \\\\\\\\\\\\\"education_high.school\\\\\\\\\\\\\"}}, \\\\\\\\\\\\\"typeProperty\\\\\\\\\\\\\": 2}, {\\\\\\\\\\\\\"column\\\\\\\\\\\\\": {\\\\\\\\\\\\\"type\\\\\\\\\\\\\": 2, \\\\\\\\\\\\\"details\\\\\\\\\\\\\": {\\\\\\\\\\\\\"selectedColumn\\\\\\\\\\\\\": \\\\\\\\\\\\\"education_illiterate\\\\\\\\\\\\\"}}, \\\\\\\\\\\\\"typeProperty\\\\\\\\\\\\\": 2}, {\\\\\\\\\\\\\"column\\\\\\\\\\\\\": {\\\\\\\\\\\\\"type\\\\\\\\\\\\\": 2, \\\\\\\\\\\\\"details\\\\\\\\\\\\\": {\\\\\\\\\\\\\"selectedColumn\\\\\\\\\\\\\": \\\\\\\\\\\\\"education_professional.course\\\\\\\\\\\\\"}}, \\\\\\\\\\\\\"typeProperty\\\\\\\\\\\\\": 2}, {\\\\\\\\\\\\\"column\\\\\\\\\\\\\": {\\\\\\\\\\\\\"type\\\\\\\\\\\\\": 2, \\\\\\\\\\\\\"details\\\\\\\\\\\\\": {\\\\\\\\\\\\\"selectedColumn\\\\\\\\\\\\\": \\\\\\\\\\\\\"education_university.degree\\\\\\\\\\\\\"}}, \\\\\\\\\\\\\"typeProperty\\\\\\\\\\\\\": 2}, {\\\\\\\\\\\\\"column\\\\\\\\\\\\\": {\\\\\\\\\\\\\"type\\\\\\\\\\\\\": 2, \\\\\\\\\\\\\"details\\\\\\\\\\\\\": {\\\\\\\\\\\\\"selectedColumn\\\\\\\\\\\\\": \\\\\\\\\\\\\"education_unknown\\\\\\\\\\\\\"}}, \\\\\\\\\\\\\"typeProperty\\\\\\\\\\\\\": 2}, {\\\\\\\\\\\\\"column\\\\\\\\\\\\\": {\\\\\\\\\\\\\"type\\\\\\\\\\\\\": 2, \\\\\\\\\\\\\"details\\\\\\\\\\\\\": {\\\\\\\\\\\\\"selectedColumn\\\\\\\\\\\\\": \\\\\\\\\\\\\"y\\\\\\\\\\\\\"}}, \\\\\\\\\\\\\"typeProperty\\\\\\\\\\\\\": 2}]}, \\\\\\\\\\\\\"localData\\\\\\\\\\\\\": {}, \\\\\\\\\\\\\"isEnabled\\\\\\\\\\\\\": true, \\\\\\\\\\\\\"name\\\\\\\\\\\\\": null, \\\\\\\\\\\\\"annotation\\\\\\\\\\\\\": null}], \\\\\\\\\\\\\"inspectors\\\\\\\\\\\\\": [], \\\\\\\\\\\\\"meta\\\\\\\\\\\\\": {\\\\\\\\\\\\\"savedDatasetId\\\\\\\\\\\\\": \\\\\\\\\\\\\"b34292c9-5106-4f9f-9011-708be3399708\\\\\\\\\\\\\", \\\\\\\\\\\\\"datasetType\\\\\\\\\\\\\": \\\\\\\\\\\\\"tabular\\\\\\\\\\\\\", \\\\\\\\\\\\\"subscriptionId\\\\\\\\\\\\\": \\\\\\\\\\\\\"77aa4fe1-b94d-42b7-8b39-c4c15eb26acb\\\\\\\\\\\\\", \\\\\\\\\\\\\"workspaceId\\\\\\\\\\\\\": \\\\\\\\\\\\\"96aa4fb1-b1db-4cdc-9207-5775fcc82f8a\\\\\\\\\\\\\", \\\\\\\\\\\\\"workspaceLocation\\\\\\\\\\\\\": \\\\\\\\\\\\\"eastasia\\\\\\\\\\\\\"}}\\\\\", \\\\\"activities\\\\\": 0}',\n",
       "  'EnableSubsampling': 'False',\n",
       "  'runTemplate': 'AutoML',\n",
       "  'azureml.runsource': 'automl',\n",
       "  'display_task_type': 'classification',\n",
       "  'dependencies_versions': '{\"azureml-widgets\": \"1.19.0\", \"azureml-train-restclients-hyperdrive\": \"1.19.0\", \"azureml-train-core\": \"1.19.0\", \"azureml-train-automl\": \"1.19.0\", \"azureml-train-automl-runtime\": \"1.19.0\", \"azureml-train-automl-client\": \"1.19.0\", \"azureml-telemetry\": \"1.19.0\", \"azureml-pipeline-steps\": \"1.19.0\", \"azureml-pipeline-core\": \"1.19.0\", \"azureml-model-management-sdk\": \"1.0.1b6.post1\", \"azureml-interpret\": \"1.19.0\", \"azureml-defaults\": \"1.19.0\", \"azureml-dataset-runtime\": \"1.19.0.post1\", \"azureml-dataprep\": \"2.6.1\", \"azureml-dataprep-rslex\": \"1.4.0\", \"azureml-dataprep-native\": \"26.0.0\", \"azureml-core\": \"1.19.0\", \"azureml-automl-runtime\": \"1.19.0\", \"azureml-automl-core\": \"1.19.0\"}',\n",
       "  '_aml_system_scenario_identification': 'Remote.Parent',\n",
       "  'ClientType': 'SDK',\n",
       "  'environment_cpu_name': 'AzureML-AutoML',\n",
       "  'environment_cpu_label': 'prod',\n",
       "  'environment_gpu_name': 'AzureML-AutoML-GPU',\n",
       "  'environment_gpu_label': 'prod',\n",
       "  'root_attribution': 'automl',\n",
       "  'attribution': 'AutoML',\n",
       "  'Orchestrator': 'AutoML',\n",
       "  'CancelUri': 'https://eastasia.experiments.azureml.net/jasmine/v1.0/subscriptions/77aa4fe1-b94d-42b7-8b39-c4c15eb26acb/resourceGroups/res-classic-2/providers/Microsoft.MachineLearningServices/workspaces/udacity-ml/experimentids/f2eb13d8-fd25-4a21-8085-12e7fd59f75c/cancel/AutoML_dfb58a58-23f4-4fbe-8c8e-7799c72fbab2',\n",
       "  'ClientSdkVersion': '1.19.0',\n",
       "  'snapshotId': '00000000-0000-0000-0000-000000000000',\n",
       "  'SetupRunId': 'AutoML_dfb58a58-23f4-4fbe-8c8e-7799c72fbab2_setup',\n",
       "  'SetupRunContainerId': 'dcid.AutoML_dfb58a58-23f4-4fbe-8c8e-7799c72fbab2_setup',\n",
       "  'FeaturizationRunJsonPath': 'featurizer_container.json',\n",
       "  'FeaturizationRunId': 'AutoML_dfb58a58-23f4-4fbe-8c8e-7799c72fbab2_featurize',\n",
       "  'ProblemInfoJsonString': '{\"dataset_num_categorical\": 0, \"is_sparse\": false, \"subsampling\": false, \"dataset_classes\": 2, \"dataset_features\": 40, \"dataset_samples\": 32950, \"single_frequency_class_detected\": false}',\n",
       "  'ModelExplainRunId': 'AutoML_dfb58a58-23f4-4fbe-8c8e-7799c72fbab2_ModelExplain',\n",
       "  'azureml.git.repository_uri': 'https://github.com/hammad-alt/MachineLearningNotebooks.git',\n",
       "  'mlflow.source.git.repoURL': 'https://github.com/hammad-alt/MachineLearningNotebooks.git',\n",
       "  'azureml.git.branch': 'master',\n",
       "  'mlflow.source.git.branch': 'master',\n",
       "  'azureml.git.commit': '3adebd11278686a23c13434b42340acb248b3133',\n",
       "  'mlflow.source.git.commit': '3adebd11278686a23c13434b42340acb248b3133',\n",
       "  'azureml.git.dirty': 'True'},\n",
       " 'inputDatasets': [{'dataset': {'id': 'b34292c9-5106-4f9f-9011-708be3399708'}, 'consumptionDetails': {'type': 'RunInput', 'inputName': 'training_data', 'mechanism': 'Direct'}}],\n",
       " 'outputDatasets': [],\n",
       " 'logFiles': {}}"
      ]
     },
     "execution_count": 21,
     "metadata": {},
     "output_type": "execute_result"
    }
   ],
   "source": [
    "automl_run.wait_for_completion(show_output=True)"
   ]
  },
  {
   "cell_type": "code",
   "execution_count": 22,
   "metadata": {
    "jupyter": {
     "outputs_hidden": false,
     "source_hidden": false
    },
    "nteract": {
     "transient": {
      "deleting": false
     }
    }
   },
   "outputs": [],
   "source": [
    "#Getting the best model output\n",
    "best_run,model=automl_run.get_output()"
   ]
  },
  {
   "cell_type": "code",
   "execution_count": 23,
   "metadata": {},
   "outputs": [
    {
     "data": {
      "text/plain": [
       "['optimal_model.joblib']"
      ]
     },
     "execution_count": 23,
     "metadata": {},
     "output_type": "execute_result"
    }
   ],
   "source": [
    "#Exporting most optimal model obtained from AutoML using joblib\n",
    "import joblib\n",
    "joblib.dump(model,'optimal_model.joblib')"
   ]
  },
  {
   "cell_type": "code",
   "execution_count": 24,
   "metadata": {},
   "outputs": [
    {
     "name": "stdout",
     "output_type": "stream",
     "text": [
      "PreFittedSoftVotingClassifier(classification_labels=None,\n",
      "                              estimators=[('44',\n",
      "                                           Pipeline(memory=None,\n",
      "                                                    steps=[('standardscalerwrapper',\n",
      "                                                            <azureml.automl.runtime.shared.model_wrappers.StandardScalerWrapper object at 0x00000245B1B46EF0>),\n",
      "                                                           ('xgboostclassifier',\n",
      "                                                            XGBoostClassifier(base_score=0.5,\n",
      "                                                                              booster='gbtree',\n",
      "                                                                              colsample_bylevel=1,\n",
      "                                                                              colsample_bynode=1,\n",
      "                                                                              colsample_bytree...\n",
      "                                                                              random_state=0,\n",
      "                                                                              reg_alpha=1.7708333333333335,\n",
      "                                                                              reg_lambda=2.291666666666667,\n",
      "                                                                              scale_pos_weight=1,\n",
      "                                                                              seed=None,\n",
      "                                                                              silent=None,\n",
      "                                                                              subsample=0.8,\n",
      "                                                                              tree_method='auto',\n",
      "                                                                              verbose=-10,\n",
      "                                                                              verbosity=0))],\n",
      "                                                    verbose=False))],\n",
      "                              flatten_transform=None,\n",
      "                              weights=[0.23076923076923078, 0.15384615384615385,\n",
      "                                       0.07692307692307693, 0.15384615384615385,\n",
      "                                       0.07692307692307693, 0.15384615384615385,\n",
      "                                       0.15384615384615385])\n"
     ]
    }
   ],
   "source": [
    "#Printing the best estimator for prediction from AutoML\n",
    "print(model._final_estimator)"
   ]
  },
  {
   "cell_type": "code",
   "execution_count": 1,
   "metadata": {},
   "outputs": [
    {
     "ename": "NameError",
     "evalue": "name 'compute_target' is not defined",
     "output_type": "error",
     "traceback": [
      "\u001b[1;31m---------------------------------------------------------------------------\u001b[0m",
      "\u001b[1;31mNameError\u001b[0m                                 Traceback (most recent call last)",
      "\u001b[1;32m<ipython-input-1-420bdeca89fd>\u001b[0m in \u001b[0;36m<module>\u001b[1;34m\u001b[0m\n\u001b[1;32m----> 1\u001b[1;33m \u001b[0mcompute_target\u001b[0m\u001b[1;33m.\u001b[0m\u001b[0mdelete\u001b[0m\u001b[1;33m(\u001b[0m\u001b[1;33m)\u001b[0m\u001b[1;33m\u001b[0m\u001b[1;33m\u001b[0m\u001b[0m\n\u001b[0m",
      "\u001b[1;31mNameError\u001b[0m: name 'compute_target' is not defined"
     ]
    }
   ],
   "source": [
    "compute_target.delete()"
   ]
  },
  {
   "cell_type": "code",
   "execution_count": null,
   "metadata": {},
   "outputs": [],
   "source": []
  }
 ],
 "metadata": {
  "kernel_info": {
   "name": "python3"
  },
  "kernelspec": {
   "display_name": "Python 3",
   "language": "python",
   "name": "python3"
  },
  "language_info": {
   "codemirror_mode": {
    "name": "ipython",
    "version": 3
   },
   "file_extension": ".py",
   "mimetype": "text/x-python",
   "name": "python",
   "nbconvert_exporter": "python",
   "pygments_lexer": "ipython3",
   "version": "3.6.12"
  },
  "nteract": {
   "version": "nteract-front-end@1.0.0"
  }
 },
 "nbformat": 4,
 "nbformat_minor": 2
}
